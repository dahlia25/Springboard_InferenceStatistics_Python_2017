{
 "cells": [
  {
   "cell_type": "markdown",
   "metadata": {},
   "source": [
    "# What is the True Normal Human Body Temperature? \n",
    "\n",
    "#### Background\n",
    "\n",
    "The mean normal body temperature was held to be 37$^{\\circ}$C or 98.6$^{\\circ}$F for more than 120 years since it was first conceptualized and reported by Carl Wunderlich in a famous 1868 book. But, is this value statistically correct?"
   ]
  },
  {
   "cell_type": "markdown",
   "metadata": {},
   "source": [
    "<div class=\"span5 alert alert-info\">\n",
    "<h3>Exercises</h3>\n",
    "\n",
    "<p>In this exercise, you will analyze a dataset of human body temperatures and employ the concepts of hypothesis testing, confidence intervals, and statistical significance.</p>\n",
    "\n",
    "<p>Answer the following questions <b>in this notebook below and submit to your Github account</b>.</p> \n",
    "\n",
    "<ol>\n",
    "<li>  Is the distribution of body temperatures normal? \n",
    "    <ul>\n",
    "    <li> Although this is not a requirement for CLT to hold (read CLT carefully), it gives us some peace of mind that the population may also be normally distributed if we assume that this sample is representative of the population.\n",
    "    </ul>\n",
    "<li>  Is the sample size large? Are the observations independent?\n",
    "    <ul>\n",
    "    <li> Remember that this is a condition for the CLT, and hence the statistical tests we are using, to apply.\n",
    "    </ul>\n",
    "<li>  Is the true population mean really 98.6 degrees F?\n",
    "    <ul>\n",
    "    <li> Would you use a one-sample or two-sample test? Why?\n",
    "    <li> In this situation, is it appropriate to use the $t$ or $z$ statistic? \n",
    "    <li> Now try using the other test. How is the result be different? Why?\n",
    "    </ul>\n",
    "<li>  At what temperature should we consider someone's temperature to be \"abnormal\"?\n",
    "    <ul>\n",
    "    <li> Start by computing the margin of error and confidence interval.\n",
    "    </ul>\n",
    "<li>  Is there a significant difference between males and females in normal temperature?\n",
    "    <ul>\n",
    "    <li> What test did you use and why?\n",
    "    <li> Write a story with your conclusion in the context of the original problem.\n",
    "    </ul>\n",
    "</ol>\n",
    "\n",
    "You can include written notes in notebook cells using Markdown: \n",
    "   - In the control panel at the top, choose Cell > Cell Type > Markdown\n",
    "   - Markdown syntax: http://nestacms.com/docs/creating-content/markdown-cheat-sheet\n",
    "\n",
    "#### Resources\n",
    "\n",
    "+ Information and data sources: http://www.amstat.org/publications/jse/datasets/normtemp.txt, http://www.amstat.org/publications/jse/jse_data_archive.htm\n",
    "+ Markdown syntax: http://nestacms.com/docs/creating-content/markdown-cheat-sheet\n",
    "\n",
    "****\n",
    "</div>"
   ]
  },
  {
   "cell_type": "code",
   "execution_count": 4,
   "metadata": {},
   "outputs": [
    {
     "data": {
      "text/html": [
       "<div>\n",
       "<style>\n",
       "    .dataframe thead tr:only-child th {\n",
       "        text-align: right;\n",
       "    }\n",
       "\n",
       "    .dataframe thead th {\n",
       "        text-align: left;\n",
       "    }\n",
       "\n",
       "    .dataframe tbody tr th {\n",
       "        vertical-align: top;\n",
       "    }\n",
       "</style>\n",
       "<table border=\"1\" class=\"dataframe\">\n",
       "  <thead>\n",
       "    <tr style=\"text-align: right;\">\n",
       "      <th></th>\n",
       "      <th>temperature</th>\n",
       "      <th>gender</th>\n",
       "      <th>heart_rate</th>\n",
       "    </tr>\n",
       "  </thead>\n",
       "  <tbody>\n",
       "    <tr>\n",
       "      <th>0</th>\n",
       "      <td>99.3</td>\n",
       "      <td>F</td>\n",
       "      <td>68.0</td>\n",
       "    </tr>\n",
       "    <tr>\n",
       "      <th>1</th>\n",
       "      <td>98.4</td>\n",
       "      <td>F</td>\n",
       "      <td>81.0</td>\n",
       "    </tr>\n",
       "    <tr>\n",
       "      <th>2</th>\n",
       "      <td>97.8</td>\n",
       "      <td>M</td>\n",
       "      <td>73.0</td>\n",
       "    </tr>\n",
       "    <tr>\n",
       "      <th>3</th>\n",
       "      <td>99.2</td>\n",
       "      <td>F</td>\n",
       "      <td>66.0</td>\n",
       "    </tr>\n",
       "    <tr>\n",
       "      <th>4</th>\n",
       "      <td>98.0</td>\n",
       "      <td>F</td>\n",
       "      <td>73.0</td>\n",
       "    </tr>\n",
       "  </tbody>\n",
       "</table>\n",
       "</div>"
      ],
      "text/plain": [
       "   temperature gender  heart_rate\n",
       "0         99.3      F        68.0\n",
       "1         98.4      F        81.0\n",
       "2         97.8      M        73.0\n",
       "3         99.2      F        66.0\n",
       "4         98.0      F        73.0"
      ]
     },
     "execution_count": 4,
     "metadata": {},
     "output_type": "execute_result"
    }
   ],
   "source": [
    "import pandas as pd\n",
    "\n",
    "df = pd.read_csv('data/human_body_temperature.csv')\n",
    "df.head(5)"
   ]
  },
  {
   "cell_type": "code",
   "execution_count": 53,
   "metadata": {
    "scrolled": false
   },
   "outputs": [
    {
     "data": {
      "image/png": "[encoded data removed]",
      "text/plain": [
       "<matplotlib.figure.Figure at 0x21eea2286a0>"
      ]
     },
     "metadata": {},
     "output_type": "display_data"
    }
   ],
   "source": [
    "# Your work here.\n",
    "import matplotlib.pyplot as plt\n",
    "import numpy as np\n",
    "import scipy.stats as stats\n",
    "\n",
    "# 1. Is the distribution of body temperatures normal?\n",
    "plt.hist(df.temperature, bins=24)\n",
    "plt.xlabel('Body Temperature (degrees F)')\n",
    "plt.ylabel('Frequency')\n",
    "plt.show()\n",
    "\n",
    "# The distribution of body temperatures appears to be normal."
   ]
  },
  {
   "cell_type": "code",
   "execution_count": 54,
   "metadata": {},
   "outputs": [
    {
     "data": {
      "text/plain": [
       "temperature    130\n",
       "gender         130\n",
       "heart_rate     130\n",
       "dtype: int64"
      ]
     },
     "execution_count": 54,
     "metadata": {},
     "output_type": "execute_result"
    }
   ],
   "source": [
    "# 2. Is the sample size large? Are the observations independent?\n",
    "df.count() # the sample size is 130\n",
    "\n",
    "# To satisfy the Central Limit Theorem, the observations are independent."
   ]
  },
  {
   "cell_type": "code",
   "execution_count": 56,
   "metadata": {},
   "outputs": [
    {
     "data": {
      "text/plain": [
       "-5.454823292364079"
      ]
     },
     "execution_count": 56,
     "metadata": {},
     "output_type": "execute_result"
    }
   ],
   "source": [
    "# 3. Is the true population mean really 98.6 degrees F?\n",
    "\n",
    "## We would use a one sample z-test because we are testing for one whole population where body temperature distribution appears to be normal.\n",
    "\n",
    "## Hypothesis\n",
    "# H0 (null); u = 98.6 degrees F, where u = population mean\n",
    "# H1 (alt.); u != 98.6 degrees F\n",
    "# alpha = 0.05\n",
    "\n",
    "# Establish all values needed for calculations\n",
    "u = 98.6 # population mean that we are testing for\n",
    "n = 130 # sample size\n",
    "\n",
    "temp_s_mean = df.temperature.mean() # body temperature sample mean\n",
    "temp_std = df.temperature.std() # body temperature sample standard deviation\n",
    "sqrt_n = n ** 0.5\n",
    "temp_s_std = temp_std / sqrt_n\n",
    "z_temp = (temp_s_mean - u) / temp_s_std\n",
    "z_temp\n",
    "\n",
    "# Since we set the alpha at 0.05 and performed a two-tailed Z-test, if the z-score is > 1.64 or < -1.64 then we reject the null hypothesis (H0)\n",
    "# We obtained a z-score of -5.455, which is less than -1.64, so we reject the H0. Therefore, 98.6 degrees F is not the true population mean body temperature.\n"
   ]
  },
  {
   "cell_type": "code",
   "execution_count": 63,
   "metadata": {},
   "outputs": [
    {
     "name": "stdout",
     "output_type": "stream",
     "text": [
      "98.12319411222852 98.37526742623304\n"
     ]
    }
   ],
   "source": [
    "# 4. At what temperature should we consider someone's temperature to be \"abnormal\"?\n",
    "\n",
    "# We will construct a 95% confidence interval, in other words our alpha = 0.5\n",
    "z = 1.96 # this is the z-score for a 95% confidence interval\n",
    "\n",
    "# Calculate Margin of Error (ME)\n",
    "ME = z * temp_s_std\n",
    "\n",
    "# Calculate Confidence Interval\n",
    "lower_temp = temp_s_mean - ME\n",
    "upper_temp = temp_s_mean + ME\n",
    "\n",
    "print(lower_temp, upper_temp)\n",
    "\n",
    "# We are 95% confident that the true population mean lies between 98.12 and 98.38 degrees F.\n",
    "# Therefore, a temperature would consider to be \"abnormal\" if it is out of that range."
   ]
  },
  {
   "cell_type": "code",
   "execution_count": 89,
   "metadata": {},
   "outputs": [
    {
     "data": {
      "text/plain": [
       "0.026240529257260795"
      ]
     },
     "execution_count": 89,
     "metadata": {},
     "output_type": "execute_result"
    }
   ],
   "source": [
    "# 5. Is there a significant difference between males and females in normal temperature?\n",
    "\n",
    "## Hypothesis\n",
    "# H0 (null); fem_mean - male_mean = 0\n",
    "# H1 (alt.); fem_mean - male_mean != 0\n",
    "# alpha < 0.05\n",
    "\n",
    "# We will be performing a two-sampled T-test to see if there's a significant difference between the two genders.\n",
    "male = df[df.gender == 'M']\n",
    "fem = df[df.gender == 'F']\n",
    "male_size = male.temperature.count() # the male sample size is 65\n",
    "fem_size = fem.temperature.count() # the female sample size is 65\n",
    "\n",
    "temp_std = df.temperature.std()\n",
    "male_mean = male.temperature.mean() # male temperature mean\n",
    "fem_mean = fem.temperature.mean() # female temperature mean\n",
    "s = ((temp_std ** 2)*((1/fem_size)+(1/male_size)))** 0.5\n",
    "\n",
    "t = (fem_mean - male_mean) / s # we got a t-score = 2.249\n",
    "\n",
    "n = (fem_size - 1) + (male_size - 1)\n",
    "pval = stats.t.sf(np.abs(t), n-1)*2 # p-value for two-tailed t-test\n",
    "pval\n",
    "\n",
    "# The difference between male and female body temperatures is significant.\n",
    "# We obtained a p-value of 0.0262 which is less than 0.05. Hence, we reject the null hypothesis.\n",
    "\n",
    "# According to this dataset, the mean normal body temperature of 98.6 F is statistically incorrect.\n",
    "# It appears that the true mean temperature lies between 98.1 and 98.4 degrees F, with 95% certainty."
   ]
  }
 ],
 "metadata": {
  "kernelspec": {
   "display_name": "Python 3",
   "language": "python",
   "name": "python3"
  },
  "language_info": {
   "codemirror_mode": {
    "name": "ipython",
    "version": 3
   },
   "file_extension": ".py",
   "mimetype": "text/x-python",
   "name": "python",
   "nbconvert_exporter": "python",
   "pygments_lexer": "ipython3",
   "version": "3.6.1"
  }
 },
 "nbformat": 4,
 "nbformat_minor": 1
}
