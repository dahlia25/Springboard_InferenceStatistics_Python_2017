{
 "cells": [
  {
   "cell_type": "markdown",
   "metadata": {},
   "source": [
    "# Examining Racial Discrimination in the US Job Market\n",
    "\n",
    "### Background\n",
    "Racial discrimination continues to be pervasive in cultures throughout the world. Researchers examined the level of racial discrimination in the United States labor market by randomly assigning identical résumés to black-sounding or white-sounding names and observing the impact on requests for interviews from employers.\n",
    "\n",
    "### Data\n",
    "In the dataset provided, each row represents a resume. The 'race' column has two values, 'b' and 'w', indicating black-sounding and white-sounding. The column 'call' has two values, 1 and 0, indicating whether the resume received a call from employers or not.\n",
    "\n",
    "Note that the 'b' and 'w' values in race are assigned randomly to the resumes when presented to the employer."
   ]
  },
  {
   "cell_type": "markdown",
   "metadata": {},
   "source": [
    "<div class=\"span5 alert alert-info\">\n",
    "### Exercises\n",
    "You will perform a statistical analysis to establish whether race has a significant impact on the rate of callbacks for resumes.\n",
    "\n",
    "Answer the following questions **in this notebook below and submit to your Github account**. \n",
    "\n",
    "   1. What test is appropriate for this problem? Does CLT apply?\n",
    "   2. What are the null and alternate hypotheses?\n",
    "   3. Compute margin of error, confidence interval, and p-value.\n",
    "   4. Write a story describing the statistical significance in the context or the original problem.\n",
    "   5. Does your analysis mean that race/name is the most important factor in callback success? Why or why not? If not, how would you amend your analysis?\n",
    "\n",
    "You can include written notes in notebook cells using Markdown: \n",
    "   - In the control panel at the top, choose Cell > Cell Type > Markdown\n",
    "   - Markdown syntax: http://nestacms.com/docs/creating-content/markdown-cheat-sheet\n",
    "\n",
    "\n",
    "#### Resources\n",
    "+ Experiment information and data source: http://www.povertyactionlab.org/evaluation/discrimination-job-market-united-states\n",
    "+ Scipy statistical methods: http://docs.scipy.org/doc/scipy/reference/stats.html \n",
    "+ Markdown syntax: http://nestacms.com/docs/creating-content/markdown-cheat-sheet\n",
    "</div>\n",
    "****"
   ]
  },
  {
   "cell_type": "code",
   "execution_count": 1,
   "metadata": {
    "collapsed": true
   },
   "outputs": [],
   "source": [
    "import pandas as pd\n",
    "import numpy as np\n",
    "from scipy import stats"
   ]
  },
  {
   "cell_type": "code",
   "execution_count": 2,
   "metadata": {
    "collapsed": true
   },
   "outputs": [],
   "source": [
    "data = pd.io.stata.read_stata('data/us_job_market_discrimination.dta')"
   ]
  },
  {
   "cell_type": "code",
   "execution_count": 3,
   "metadata": {},
   "outputs": [
    {
     "data": {
      "text/plain": [
       "157.0"
      ]
     },
     "execution_count": 3,
     "metadata": {},
     "output_type": "execute_result"
    }
   ],
   "source": [
    "# number of callbacks for black-sounding names\n",
    "sum(data[data.race=='b'].call)"
   ]
  },
  {
   "cell_type": "code",
   "execution_count": 48,
   "metadata": {},
   "outputs": [
    {
     "data": {
      "text/plain": [
       "0.24564945697784424"
      ]
     },
     "execution_count": 48,
     "metadata": {},
     "output_type": "execute_result"
    }
   ],
   "source": [
    "# Establish values to needed variables\n",
    "# Means\n",
    "w_mean = data[data.race == 'w'].call.mean()\n",
    "b_mean = data[data.race == 'b'].call.mean()\n",
    "diff_mean = w_mean - b_mean\n",
    "\n",
    "# Sample sizes\n",
    "w_size = data[data.race == 'w'].call.count()\n",
    "b_size = data[data.race == 'b'].call.count()\n",
    "\n",
    "# Standard deviations\n",
    "w_std = data[data.race == 'w'].call.std()\n",
    "b_std = data[data.race == 'b'].call.std()\n",
    "\n",
    "b_std"
   ]
  },
  {
   "cell_type": "code",
   "execution_count": 55,
   "metadata": {},
   "outputs": [],
   "source": [
    "## 1. What test is appropriate for this problem? Does CLT apply?\n",
    "# A two-sample t-test is appropriate for this problem. And yes, the CLT (Central Limit Theorem) does apply, because we are trying to see the frequency of callbacks depending on the race; we are testing to see if this applies to the population.\n",
    "\n",
    "## 2. What are the null and alternate hypotheses?\n",
    "# H0 (null); w_avg_call - b_avg_call = 0\n",
    "# H1 (alt.); w_avg_call - b_acg_call != 0\n",
    "\n",
    "## 3. Compute margin of error, confidence interval, and p-value.\n",
    "# alpha = 0.05\n",
    "\n",
    "MSE = ((w_std**2) + (b_std**2)) / 2 # mean squared error\n",
    "diff_s = ((2*MSE)/w_size) ** 0.5\n",
    "\n",
    "# Margin of error (ME)\n",
    "# With 4868 degrees of freedom, t = 1.96\n",
    "t = 1.96\n",
    "ME = t * diff_s # ME = 0.0153\n",
    "\n",
    "# 95% Confidence interval\n",
    "lower = diff_mean - ME\n",
    "upper = diff_mean + ME\n",
    "# The 95% confidence interval for the difference in callback rate between 'w' and 'b' is (0.0168, 0.0473).\n",
    "\n",
    "# P-value\n",
    "\n",
    "t_pval = (w_mean - b_mean) / diff_s # we got a t-score = 4.115\n",
    "\n",
    "n = (w_size - 1) + (b_size - 1)\n",
    "pval = stats.t.sf(np.abs(t_pval), n-1)*2 # p-value = 3.9402530106012533e-05, so p-value < 0.0001"
   ]
  },
  {
   "cell_type": "code",
   "execution_count": 56,
   "metadata": {
    "collapsed": true
   },
   "outputs": [],
   "source": [
    "## 4. Write a story describing the statistical significance in the context or the original problem.\n",
    "## 5. Does your analysis mean that race/name is the most important factor in callback success? Why or why not? If not, how would you amend your analysis?\n",
    "\n",
    "## Question: does race have a significant impact on the rate of callbacks for resumes?\n",
    "\n",
    "# We are 95% confident that the difference in callback rate between black- and white-sounding names is between 0.0168 and 0.0473.\n",
    "# This also means that white-sounding names have a range from 1.6% to 4.7% higher callback rate than black-sounding names.\n",
    "\n",
    "# With a low p-value < 0.0001, we reject the null hypothesis. The difference between white- and black-sounding names is statistically significant.\n",
    "\n",
    "# According to statistical analysis, race/name is an important factor in callback success."
   ]
  }
 ],
 "metadata": {
  "kernelspec": {
   "display_name": "Python 3",
   "language": "python",
   "name": "python3"
  },
  "language_info": {
   "codemirror_mode": {
    "name": "ipython",
    "version": 3
   },
   "file_extension": ".py",
   "mimetype": "text/x-python",
   "name": "python",
   "nbconvert_exporter": "python",
   "pygments_lexer": "ipython3",
   "version": "3.6.1"
  }
 },
 "nbformat": 4,
 "nbformat_minor": 1
}
